{
  "nbformat": 4,
  "nbformat_minor": 0,
  "metadata": {
    "colab": {
      "provenance": [],
      "authorship_tag": "ABX9TyPSb3ogeP4kTI4oXEyopCYO",
      "include_colab_link": true
    },
    "kernelspec": {
      "name": "python3",
      "display_name": "Python 3"
    },
    "language_info": {
      "name": "python"
    }
  },
  "cells": [
    {
      "cell_type": "markdown",
      "metadata": {
        "id": "view-in-github",
        "colab_type": "text"
      },
      "source": [
        "<a href=\"https://colab.research.google.com/github/AbhayKhamkar/python/blob/main/Bike_Rent_OOPs_Project_.ipynb\" target=\"_parent\"><img src=\"https://colab.research.google.com/assets/colab-badge.svg\" alt=\"Open In Colab\"/></a>"
      ]
    },
    {
      "cell_type": "code",
      "execution_count": null,
      "metadata": {
        "colab": {
          "base_uri": "https://localhost:8080/"
        },
        "id": "L0vzLWINRG53",
        "outputId": "7c04f669-426c-4ea0-97ee-9784792e8200"
      },
      "outputs": [
        {
          "output_type": "stream",
          "name": "stdout",
          "text": [
            "Welcome to rental bike shop.\n"
          ]
        }
      ],
      "source": [
        "\n",
        "###----------------------------------------------------------------------   Bike_Rental   ----------------------------------------------------------------------###\n",
        "\n",
        "#Define stock as class attribute and assign value 100 to it.\n",
        "class BikeRental():\n",
        "  stock=100\n",
        "  print(\"Welcome to rental bike shop.\")\n",
        "  def displaystock(self):\n",
        "    return BikeRental.stock\n",
        "\n",
        "bike_shop=BikeRental()\n",
        "bike_shop.displaystock()\n",
        "#Define bill as class attributeand set it's initial value as zero.\n",
        "class Customer():\n",
        "  bill=0\n",
        "  def __init__(self,number_of_bikes,rentalBasis,number_of_days_or_weeks):\n",
        "    self.number_of_bikes=number_of_bikes\n",
        "    self.rentalBasis=rentalBasis\n",
        "    self.number_of_days_or_weeks=number_of_days_or_weeks\n",
        "\n",
        "class Customer(BikeRental):\n",
        "  bill=0\n",
        "  def __init__(self,number_of_bikes,rentalBasis,number_of_days_or_weeks):\n",
        "    self.number_of_bikes=number_of_bikes\n",
        "    self.rentalBasis=rentalBasis\n",
        "    self.number_of_days_or_weeks=number_of_days_or_weeks\n",
        "#Define a function rentBike, with some following conditions:\n",
        "#\"Number of bikes should be positive!\"\n",
        "#It should display the number_of_bikes available to rent.\n",
        "#Subtract the number_of_bikes rented from stock and display the updated stock.\n",
        "  def rentBike(self):\n",
        "    if self.number_of_bikes <= 0:\n",
        "      print(\"Number of bikes should be positive!\")\n",
        "    elif self.number_of_bikes > self.stock:\n",
        "      print(self.stock,\"is available to rent\")\n",
        "    else:\n",
        "      print(self.number_of_bikes)\n",
        "      c=self.stock-self.number_of_bikes\n",
        "      self.stock=c\n",
        "      print(self.stock,\"is available to rent\")\n",
        "#Define a function returnBike to return the total bill of customer.\n",
        "  def returnBike(self):\n",
        "    if self.number_of_bikes in range(3,5):\n",
        "      print(self.number_of_days_or_weeks* 30+self.number_of_days_or_weeks* 0.30,\"You are eligible for Family rental promotion of 30% discount\")\n",
        "    elif self.rentalBasis == 'day':\n",
        "        print(self.number_of_days_or_weeks*100\"Rs.\" ,\"Rent on ' daily ' basis is Rs. 100 per bike \")\n",
        "    elif self.rentalBasis == 'week':\n",
        "      print(self.number_of_days_or_weeks*500\"Rs.\",\" for ' weekly ' basis it is Rs. 500 per bike.\")"
      ]
    },
    {
      "cell_type": "code",
      "source": [
        "###-----c=Customer(No. bikes,choose day or week,No. of days or weeks)------###\n",
        "c=Customer(2,'day',5)\n",
        "c.rentBike()\n",
        "c.returnBike()"
      ],
      "metadata": {
        "colab": {
          "base_uri": "https://localhost:8080/"
        },
        "id": "rJvJTYDITFf_",
        "outputId": "1a7001e0-ace3-4982-94fd-eece173edff6"
      },
      "execution_count": null,
      "outputs": [
        {
          "output_type": "stream",
          "name": "stdout",
          "text": [
            "2\n",
            "98 is available to rent\n",
            "500 Rent on ' daily ' basis is Rs. 100 per bike \n"
          ]
        }
      ]
    },
    {
      "cell_type": "code",
      "source": [
        "c=Customer(1,'week',3)\n",
        "c.rentBike()\n",
        "c.returnBike()"
      ],
      "metadata": {
        "colab": {
          "base_uri": "https://localhost:8080/"
        },
        "id": "wA8QYryGTGS_",
        "outputId": "af11c2ec-6903-4c75-e79d-653cac6fbc79"
      },
      "execution_count": null,
      "outputs": [
        {
          "output_type": "stream",
          "name": "stdout",
          "text": [
            "1\n",
            "99 is available to rent\n",
            "1500  for ' weekly ' basis it is Rs. 500 per bike.\n"
          ]
        }
      ]
    },
    {
      "cell_type": "code",
      "source": [
        "c=Customer(4,'day',3)\n",
        "c.rentBike()\n",
        "c.returnBike()"
      ],
      "metadata": {
        "colab": {
          "base_uri": "https://localhost:8080/"
        },
        "id": "LmEfu6rkTOOR",
        "outputId": "eaeffee5-8b3e-4302-b6e1-40a53edcb58e"
      },
      "execution_count": null,
      "outputs": [
        {
          "output_type": "stream",
          "name": "stdout",
          "text": [
            "4\n",
            "96 is available to rent\n",
            "90.9 You are eligible for Family rental promotion of 30% discount\n"
          ]
        }
      ]
    },
    {
      "cell_type": "code",
      "source": [
        "c=Customer(120,'week',3)\n",
        "c.rentBike()\n",
        "c.displaystock()"
      ],
      "metadata": {
        "colab": {
          "base_uri": "https://localhost:8080/"
        },
        "id": "0pUwb582TSB8",
        "outputId": "7bed912d-0c04-48d4-ed49-6104f8b75c92"
      },
      "execution_count": null,
      "outputs": [
        {
          "output_type": "stream",
          "name": "stdout",
          "text": [
            "100 is available to rent\n"
          ]
        },
        {
          "output_type": "execute_result",
          "data": {
            "text/plain": [
              "100"
            ]
          },
          "metadata": {},
          "execution_count": 6
        }
      ]
    },
    {
      "cell_type": "code",
      "source": [
        "c=Customer(0,'week',3)\n",
        "c.rentBike()\n",
        "c.displaystock()"
      ],
      "metadata": {
        "colab": {
          "base_uri": "https://localhost:8080/"
        },
        "id": "SLKr0gTPTWxG",
        "outputId": "3fef4dd5-a609-4dbd-a562-a4836e0347e4"
      },
      "execution_count": null,
      "outputs": [
        {
          "output_type": "stream",
          "name": "stdout",
          "text": [
            "Number of bikes should be positive!\n"
          ]
        },
        {
          "output_type": "execute_result",
          "data": {
            "text/plain": [
              "100"
            ]
          },
          "metadata": {},
          "execution_count": 7
        }
      ]
    },
    {
      "cell_type": "code",
      "source": [
        "c=Customer(1,'day',3)\n",
        "c.rentBike()\n",
        "c.displaystock()"
      ],
      "metadata": {
        "colab": {
          "base_uri": "https://localhost:8080/"
        },
        "id": "bKQCEx7MThOd",
        "outputId": "82f8e2a5-42b0-4de2-f520-b6c7c2770604"
      },
      "execution_count": null,
      "outputs": [
        {
          "output_type": "stream",
          "name": "stdout",
          "text": [
            "1\n",
            "99 is available to rent\n"
          ]
        },
        {
          "output_type": "execute_result",
          "data": {
            "text/plain": [
              "100"
            ]
          },
          "metadata": {},
          "execution_count": 8
        }
      ]
    },
    {
      "cell_type": "code",
      "source": [],
      "metadata": {
        "id": "ts0kalesTlxN"
      },
      "execution_count": null,
      "outputs": []
    }
  ]
}