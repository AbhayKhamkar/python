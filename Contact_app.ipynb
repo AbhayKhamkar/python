{
  "nbformat": 4,
  "nbformat_minor": 0,
  "metadata": {
    "colab": {
      "provenance": [],
      "authorship_tag": "ABX9TyMPP6BzBHVT5TNh8d/m7I4j",
      "include_colab_link": true
    },
    "kernelspec": {
      "name": "python3",
      "display_name": "Python 3"
    },
    "language_info": {
      "name": "python"
    }
  },
  "cells": [
    {
      "cell_type": "markdown",
      "metadata": {
        "id": "view-in-github",
        "colab_type": "text"
      },
      "source": [
        "<a href=\"https://colab.research.google.com/github/AbhayKhamkar/python/blob/main/Contact_app.ipynb\" target=\"_parent\"><img src=\"https://colab.research.google.com/assets/colab-badge.svg\" alt=\"Open In Colab\"/></a>"
      ]
    },
    {
      "cell_type": "code",
      "execution_count": 5,
      "metadata": {
        "colab": {
          "base_uri": "https://localhost:8080/"
        },
        "id": "rlcheBGvgI3z",
        "outputId": "e248b590-5b37-45e8-b501-53e084f4e08f"
      },
      "outputs": [
        {
          "name": "stdout",
          "output_type": "stream",
          "text": [
            "Press 'a' - add contact, 'o' - open contact, 's' - search contact, 'q' - quit & 'c'- to see contacts.s\n",
            "Enter name of the contact you want to search :om\n",
            "{'name': 'om', 'number': 9012455674, 'email': 'omxyz@gmail.com'}\n",
            "Press 'a' - add contact, 'o' - open contact, 's' - search contact, 'q' - quit & 'c'- to see contacts.q\n"
          ]
        }
      ],
      "source": [
        "##3 dummy contacts.##\n",
        "contacts=[{\"name\":\"om\",\"number\":9012455674,\"email\":\"omxyz@gmail.com\"},{\"name\":\"yash\",\"number\":9912305674,\"email\":\"yashxyz@gmail.com\"},{\"name\":\"harsh\",\"number\":9763327253,\"email\":\"harshxyz@gmail.com\"}]\n",
        "\n",
        "## It will prints all the contact names.##\n",
        "def show_contacts(contacts):\n",
        "  return contacts\n",
        "\n",
        "## takes user input and adds new contact dictionary to the existing list of contacts.##\n",
        "def add_contact(contacts):\n",
        "    a_con = {\"name\":input(\"name \"),\"number\":int(input(\"number \")),\"email\":input(\"email \")}\n",
        "    contacts.append(a_con)\n",
        "    return contacts\n",
        "\n",
        "## function to delete an existing contact by providing name ##\n",
        "def delete_contact(contacts, name):\n",
        "    for i in contacts:\n",
        "          for k,v in i.items():\n",
        "            if v == name:\n",
        "                contacts.remove(i)\n",
        "    return contacts\n",
        "\n",
        "## function to update an existing contact by providing name ##\n",
        "def update_contact(contacts, name):\n",
        "    for i in contacts:\n",
        "      if name in i.values():\n",
        "           i['name']=input(\"Enter new name.\")\n",
        "           i['number']=int(input(\"Enter new number.\"))\n",
        "           i['email']=input(\"Enter new email.\")\n",
        "    return contacts\n",
        "\n",
        "\n",
        "def oopen_contact(contacts, name):\n",
        "  for i in contacts:\n",
        "    if name in i.values():\n",
        "      print(i)\n",
        "      o=input(\"Press 'u' - Update, 'd'- Delete contact & 'q' - Quit.\")\n",
        "      if o=='u':\n",
        "        update_contact(contacts, name)\n",
        "        return contacts\n",
        "      elif o=='d':\n",
        "          delete_contact(contacts, name)\n",
        "      elif o=='q':\n",
        "          break\n",
        "          return contacts\n",
        "\n",
        "## functio to search contacts ##\n",
        "def search_contact(contacts,name):\n",
        "    for j in contacts:\n",
        "      if name in j.values():\n",
        "        print(j)\n",
        "\n",
        "from IPython.display import clear_output\n",
        "\n",
        "while True:\n",
        "\n",
        "    ## show all contacts\n",
        "    show_contacts(contacts)\n",
        "\n",
        "    action = input(\"Press 'a' - Add contact, 'u' - update or delete contact, 's' - Search contact, 'q' - Quit & 'c'- To see contacts.\")\n",
        "    if action == 'a':\n",
        "        ## add contact\n",
        "        add_contact(contacts)\n",
        "    elif action == 'c':\n",
        "        print(show_contacts(contacts))\n",
        "    elif action =='s':\n",
        "        name = input(\"Enter name of the contact you want to search :\")\n",
        "        search_contact(contacts,name)\n",
        "    elif action == 'u':\n",
        "        name = input(\"Enter name of the contact you want to update or delete :\")\n",
        "        oopen_contact(contacts, name)\n",
        "    elif action == 'q':\n",
        "         break\n",
        "\n",
        "    else:\n",
        "         print(\"incorrect choice\")"
      ]
    }
  ]
}