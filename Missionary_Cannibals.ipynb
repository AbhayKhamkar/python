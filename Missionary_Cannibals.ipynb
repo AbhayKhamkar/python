{
  "nbformat": 4,
  "nbformat_minor": 0,
  "metadata": {
    "colab": {
      "provenance": [],
      "authorship_tag": "ABX9TyMoCbvl91zde3S61keMxAhv",
      "include_colab_link": true
    },
    "kernelspec": {
      "name": "python3",
      "display_name": "Python 3"
    },
    "language_info": {
      "name": "python"
    }
  },
  "cells": [
    {
      "cell_type": "markdown",
      "metadata": {
        "id": "view-in-github",
        "colab_type": "text"
      },
      "source": [
        "<a href=\"https://colab.research.google.com/github/AbhayKhamkar/python/blob/main/Missionary_Cannibals.ipynb\" target=\"_parent\"><img src=\"https://colab.research.google.com/assets/colab-badge.svg\" alt=\"Open In Colab\"/></a>"
      ]
    },
    {
      "cell_type": "code",
      "execution_count": null,
      "metadata": {
        "id": "JpTMoNBHIDye"
      },
      "outputs": [],
      "source": [
        "# Setting up the initial environment of the game.#\n",
        "## Define initial variables ##\n",
        "boat_side = 'right side'\n",
        "missionaries_on_right = 3\n",
        "cannibals_on_right =3\n",
        "missionaries_on_left = 0\n",
        "cannibals_on_left = 0\n",
        "\n",
        "# Adding emoticons to complete the game with better interface #\n",
        "print('\\U0001f482'*missionaries_on_left, '\\U0001f479'*cannibals_on_left,'\\U0001f30a \\U0001f6A2' ,'\\U0001f482'* missionaries_on_right, '\\U0001f479'*cannibals_on_right)\n",
        "print(\"At a time, only Two or One people can enter.\")\n",
        "###----------------------------------###\n",
        "while True:\n",
        "##  Adding the required valid and invalid conditions alongwith their operations\n",
        "  missionaries = int(input(\"Enter No. of Missionaries :\"))\n",
        "  cannibals = int(input(\"Enter No. of Cannibals :\"))\n",
        "  ##Codeflow for Right Side\n",
        "  if boat_side == 'right side':\n",
        "    if (missionaries+cannibals)==1 or (missionaries+cannibals)==2 :\n",
        "      print(\"Boat on the left side.\")\n",
        "      if (missionaries>missionaries_on_right) or (cannibals>cannibals_on_right):\n",
        "        print('Invalid')\n",
        "      else:\n",
        "        missionaries_on_left = missionaries_on_left+missionaries\n",
        "        missionaries_on_right = missionaries_on_right-missionaries\n",
        "        cannibals_on_left = cannibals_on_left+cannibals\n",
        "        cannibals_on_right = cannibals_on_right-cannibals\n",
        "        print( '\\U0001f482'* missionaries_on_left, '\\U0001f479'*cannibals_on_left,'\\U0001f6A2' '\\U0001f30a','\\U0001f482'*missionaries_on_right, '\\U0001f479'*cannibals_on_right)\n",
        "        if (missionaries_on_right<cannibals_on_right) and missionaries_on_right>0  or (missionaries_on_left<cannibals_on_left) and missionaries_on_left>0:\n",
        "          print(\"YOU LOSE\")\n",
        "          break\n",
        "        if (missionaries_on_left and cannibals_on_left)==3:\n",
        "          print(\"YOU WIN!\")\n",
        "          break\n",
        "        boat_side = 'left side'\n",
        "        continue\n",
        "  ##Codeflow for Left Side\n",
        "  elif boat_side == 'left side':\n",
        "    if (missionaries+cannibals)==1 or (missionaries+cannibals)==2 :\n",
        "      print(\"Boat on the right side.\")\n",
        "      if (missionaries>missionaries_on_left or cannibals>cannibals_on_left):\n",
        "        print('Invalid move')\n",
        "      else:\n",
        "          missionaries_on_left = missionaries_on_left-missionaries\n",
        "          missionaries_on_right = missionaries_on_right+missionaries\n",
        "          cannibals_on_left = cannibals_on_left-cannibals\n",
        "          cannibals_on_right = cannibals_on_right+cannibals\n",
        "          print('\\U0001f482'*missionaries_on_left, '\\U0001f479'*cannibals_on_left, '\\U0001f30a''\\U0001f6A2','\\U0001f482'*missionaries_on_right, '\\U0001f479'*cannibals_on_right)\n",
        "          if (missionaries_on_right<cannibals_on_right) and missionaries_on_right>0  or (missionaries_on_left<cannibals_on_left) and missionaries_on_left>0:\n",
        "            print(\"YOU LOSE!\")\n",
        "            break\n",
        "          boat_side = 'right side'\n",
        "    else:\n",
        "      print('invalid move')\n",
        "      continue"
      ]
    }
  ]
}